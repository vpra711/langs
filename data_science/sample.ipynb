{
 "metadata": {
  "language_info": {
   "codemirror_mode": {
    "name": "ipython",
    "version": 3
   },
   "file_extension": ".py",
   "mimetype": "text/x-python",
   "name": "python",
   "nbconvert_exporter": "python",
   "pygments_lexer": "ipython3",
   "version": "3.8.8"
  },
  "orig_nbformat": 2,
  "kernelspec": {
   "name": "python3",
   "display_name": "Python 3.8.8 64-bit ('base': conda)"
  },
  "interpreter": {
   "hash": "b3ba2566441a7c06988d0923437866b63cedc61552a5af99d1f4fb67d367b25f"
  }
 },
 "nbformat": 4,
 "nbformat_minor": 2,
 "cells": [
  {
   "cell_type": "code",
   "execution_count": 28,
   "source": [
    "import math\r\n",
    "import hashlib"
   ],
   "outputs": [],
   "metadata": {}
  },
  {
   "cell_type": "code",
   "execution_count": 29,
   "source": [
    "myString = input(\"Enter a string :\")\r\n",
    "encodedString = myString.encode()\r\n",
    "hashedString = hashlib.sha256(encodedString)\r\n",
    "hexedHashedString = hashedString.hexdigest()\r\n",
    "print(f\"Hex value for hashed string is : {hexedHashedString}\")"
   ],
   "outputs": [
    {
     "output_type": "stream",
     "name": "stdout",
     "text": [
      "Hex value for hashed string is : f0e4c2f76c58916ec258f246851bea091d14d4247a2fc3e18694461b1816e13b\n"
     ]
    }
   ],
   "metadata": {}
  },
  {
   "cell_type": "code",
   "execution_count": 30,
   "source": [
    "list1 = []\r\n",
    "list2 = [2,3,4,5]\r\n",
    "list3 = list(range(1,45))\r\n",
    "list1.append(123)\r\n",
    "print([x-2 for x in list2])\r\n",
    "print(list3)\r\n",
    "list4 = []\r\n",
    "for x in list3:\r\n",
    "    list4.append(x*2)\r\n",
    "list3 = list3 + list4\r\n",
    "print(list3)"
   ],
   "outputs": [
    {
     "output_type": "stream",
     "name": "stdout",
     "text": [
      "[0, 1, 2, 3]\n",
      "[1, 2, 3, 4, 5, 6, 7, 8, 9, 10, 11, 12, 13, 14, 15, 16, 17, 18, 19, 20, 21, 22, 23, 24, 25, 26, 27, 28, 29, 30, 31, 32, 33, 34, 35, 36, 37, 38, 39, 40, 41, 42, 43, 44]\n",
      "[1, 2, 3, 4, 5, 6, 7, 8, 9, 10, 11, 12, 13, 14, 15, 16, 17, 18, 19, 20, 21, 22, 23, 24, 25, 26, 27, 28, 29, 30, 31, 32, 33, 34, 35, 36, 37, 38, 39, 40, 41, 42, 43, 44, 2, 4, 6, 8, 10, 12, 14, 16, 18, 20, 22, 24, 26, 28, 30, 32, 34, 36, 38, 40, 42, 44, 46, 48, 50, 52, 54, 56, 58, 60, 62, 64, 66, 68, 70, 72, 74, 76, 78, 80, 82, 84, 86, 88]\n"
     ]
    }
   ],
   "metadata": {}
  },
  {
   "cell_type": "code",
   "execution_count": 31,
   "source": [
    "tuple1 = (2, 3, 4, 5, 2)\r\n",
    "print(tuple1)\r\n",
    "print(tuple1.count(2))"
   ],
   "outputs": [
    {
     "output_type": "stream",
     "name": "stdout",
     "text": [
      "(2, 3, 4, 5, 2)\n",
      "2\n"
     ]
    }
   ],
   "metadata": {}
  },
  {
   "cell_type": "code",
   "execution_count": 18,
   "source": [
    "dict1 = {}\r\n",
    "dict1[\"name\"] = \"Hello\"\r\n",
    "print(dict1[\"name\"])\r\n",
    "dict1[\"name1\"] = \"Hello1\"\r\n",
    "print(dict1)"
   ],
   "outputs": [
    {
     "output_type": "stream",
     "name": "stdout",
     "text": [
      "Hello\n",
      "{'name': 'Hello', 'name1': 'Hello1'}\n"
     ]
    }
   ],
   "metadata": {}
  }
 ]
}