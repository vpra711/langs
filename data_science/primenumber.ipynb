{
    "cells": [
        {
            "cell_type": "code",
            "execution_count": 1,
            "metadata": {},
            "outputs": [],
            "source": [
                "from time import time\n",
                "import numpy as np\n",
                "from numba import vectorize,uint16, uint32\n",
                "from numba import njit,prange"
            ]
        },
        {
            "cell_type": "code",
            "execution_count": 6,
            "metadata": {},
            "outputs": [
                {
                    "name": "stdout",
                    "output_type": "stream",
                    "text": [
                        "9592\n",
                        "2.888977527618408\n"
                    ]
                }
            ],
            "source": [
                "\n",
                "@vectorize([uint16(uint32)], cache=True, nopython=True, target='cpu', fastmath=True)\n",
                "def is_prime_vectorized(num):\n",
                "    for x in range(2,(num//2) + 1):\n",
                "        if num % x == 0:\n",
                "            return 0\n",
                "        else:\n",
                "            continue\n",
                "    return 1\n",
                "\n",
                "start = time()\n",
                "print(np.count_nonzero(is_prime_vectorized(np.arange(100000,1,-1,dtype=np.uint32))))\n",
                "end = time()\n",
                "print(end - start)"
            ]
        },
        {
            "cell_type": "code",
            "execution_count": 3,
            "metadata": {},
            "outputs": [
                {
                    "name": "stderr",
                    "output_type": "stream",
                    "text": [
                        "UsageError: Line magic function `%%timeit` not found.\n"
                    ]
                }
            ],
            "source": [
                "@njit([uint16(uint32[:])],cache=True, fastmath=True)\n",
                "def is_prime_jitted(nums:np.ndarray):\n",
                "    primes = 0\n",
                "    for num in nums:\n",
                "        for x in prange(2,(num//2) + 1):\n",
                "            if num % x == 0:\n",
                "                break\n",
                "        else:\n",
                "            primes += 1\n",
                "\n",
                "    return primes\n",
                "\n",
                "%%timeit\n",
                "start = time()\n",
                "print(is_prime_jitted(np.arange(100000,1,-1,dtype=np.uint32)))\n",
                "end = time()\n",
                "\n",
                "print(f\"Time taken to executed jiited numba code is : {end - start}\")"
            ]
        }
    ],
    "metadata": {
        "interpreter": {
            "hash": "b3ba2566441a7c06988d0923437866b63cedc61552a5af99d1f4fb67d367b25f"
        },
        "kernelspec": {
            "display_name": "Python 3.8.8 64-bit ('base': conda)",
            "name": "python3"
        },
        "language_info": {
            "codemirror_mode": {
                "name": "ipython",
                "version": 3
            },
            "file_extension": ".py",
            "mimetype": "text/x-python",
            "name": "python",
            "nbconvert_exporter": "python",
            "pygments_lexer": "ipython3",
            "version": "3.8.8"
        },
        "orig_nbformat": 4
    },
    "nbformat": 4,
    "nbformat_minor": 2
}
